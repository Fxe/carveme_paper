{
 "cells": [
  {
   "cell_type": "code",
   "execution_count": null,
   "metadata": {},
   "outputs": [],
   "source": [
    "%matplotlib inline"
   ]
  },
  {
   "cell_type": "code",
   "execution_count": null,
   "metadata": {},
   "outputs": [],
   "source": [
    "%run ../src/benchmark.py\n",
    "%run ../src/plotting.py"
   ]
  },
  {
   "cell_type": "code",
   "execution_count": null,
   "metadata": {},
   "outputs": [],
   "source": [
    "from framed import load_cbmodel\n",
    "from framed.cobra.ensemble import load_ensemble\n",
    "import pandas as pd\n",
    "import matplotlib.pyplot as plt\n",
    "from carveme.reconstruction.utils import load_media_db\n",
    "import seaborn as sns\n",
    "sns.set_style('white')"
   ]
  },
  {
   "cell_type": "markdown",
   "metadata": {},
   "source": [
    "### Select organism"
   ]
  },
  {
   "cell_type": "code",
   "execution_count": null,
   "metadata": {},
   "outputs": [],
   "source": [
    "SELECTED = 1\n",
    "\n",
    "organisms = [\n",
    "    'ecoli',\n",
    "    'bsubtilis',\n",
    "    'paeruginosa',\n",
    "    'soneidensis',\n",
    "    'mgenitalium'\n",
    "]\n",
    "\n",
    "organism = organisms[SELECTED]"
   ]
  },
  {
   "cell_type": "markdown",
   "metadata": {},
   "source": [
    "### Load gene essentiality data"
   ]
  },
  {
   "cell_type": "code",
   "execution_count": null,
   "metadata": {},
   "outputs": [],
   "source": [
    "if organism == 'ecoli':\n",
    "    medium_tag = 'M9'\n",
    "    df = pd.read_csv('../experimental/essentiality/ecoli/essential_glc_mm.csv', header=None)\n",
    "    essential = set(df[0].apply(lambda x: 'G_' + x))\n",
    "    non_essential = None\n",
    "    \n",
    "elif organism == 'bsubtilis':\n",
    "    medium_tag = 'LB'\n",
    "    df = pd.read_csv('../experimental/essentiality/bsubtilis/essential_rich_medium.tsv', sep='\\t')\n",
    "    df = df.fillna('')\n",
    "    essential = {'G_' + row['bigg_id'] for _, row in df.iterrows()\n",
    "                 if row['phenotype'] == 'essential' and row['bigg_id'] != ''}\n",
    "    non_essential = {'G_' + row['bigg_id'] for _, row in df.iterrows()\n",
    "                      if row['phenotype'] == 'non-essential' and row['bigg_id'] != ''}    \n",
    "\n",
    "elif organism == 'mgenitalium':\n",
    "    medium_tag = None\n",
    "    df = pd.read_csv('../experimental/essentiality/mgenitalium/essentiality_rich_medium.tsv', sep='\\t')\n",
    "    essential = {'G_' + row['locus'] for _, row in df.iterrows() if row['essential'] == 'E'}\n",
    "    non_essential = {'G_' + row['locus'] for _, row in df.iterrows() if row['essential'] == 'NE'}    \n",
    "\n",
    "elif organism == 'paeruginosa':\n",
    "    medium_tag = 'M9[succ]'\n",
    "    df = pd.read_csv('../experimental/essentiality/paeruginosa/essential_MOPS_succ.tsv', sep='\\t')\n",
    "    essential = {'G_' + row['locus'] for _, row in df.iterrows() if row['essential'] == 'E'}\n",
    "    non_essential = {'G_' + row['locus'] for _, row in df.iterrows() if row['essential'] == 'NE'}\n",
    "    \n",
    "elif organism == 'soneidensis':\n",
    "    medium_tag = 'LB'\n",
    "    df = pd.read_csv('../experimental/essentiality/soneidensis/essentiality_price2016.tsv', header=None)\n",
    "    essential = set(df[0].apply(lambda x: 'G_' + x))\n",
    "    non_essential = None    \n",
    "    "
   ]
  },
  {
   "cell_type": "markdown",
   "metadata": {},
   "source": [
    "### Define simulation conditions"
   ]
  },
  {
   "cell_type": "code",
   "execution_count": null,
   "metadata": {},
   "outputs": [],
   "source": [
    "test = 'main'\n",
    "#test = 'biomass'\n",
    "#test = 'ensemble'\n",
    "\n",
    "styles = None\n",
    "voting_thresholds = None"
   ]
  },
  {
   "cell_type": "code",
   "execution_count": null,
   "metadata": {},
   "outputs": [],
   "source": [
    "if test == 'biomass':\n",
    "    styles = [(c, '-', True) for c in sns.color_palette('YlGnBu', n_colors=3)]\n",
    "    \n",
    "if test == 'ensemble':\n",
    "    c = sns.color_palette('YlGnBu', n_colors=4)\n",
    "    styles = [(c[0], '-', True), (c[1], '-', False), (c[2], '-', False), (c[3], '-', False)]\n",
    "    voting_thresholds = [0.1, 0.5, 0.9]"
   ]
  },
  {
   "cell_type": "code",
   "execution_count": null,
   "metadata": {},
   "outputs": [],
   "source": [
    "media_db = load_media_db('../experimental/media/media_db.tsv')\n",
    "seed_media = load_media_db('../experimental/media/kbase_media.tsv')"
   ]
  },
  {
   "cell_type": "markdown",
   "metadata": {},
   "source": [
    "### Select models"
   ]
  },
  {
   "cell_type": "code",
   "execution_count": null,
   "metadata": {},
   "outputs": [],
   "source": [
    "if organism == 'ecoli' and test == 'main':\n",
    "    model_list = [\n",
    "        ('iML1515', '../models/original/iML1515.xml', 'bigg'),\n",
    "        ('CarveMe', '../models/CarveMe/Ecoli_K12_MG1655.xml', 'cobra'),\n",
    "        ('modelSEED', '../models/modelSEED/ecoli.xml', 'seed')\n",
    "    ]\n",
    "\n",
    "if organism == 'bsubtilis' and test == 'main':\n",
    "    model_list = [\n",
    "        ('iYO844', '../models/original/iYO844.xml', 'bigg'),\n",
    "        ('CarveMe', '../models/CarveMe/Bsubtilis_168.xml', 'cobra'),\n",
    "        ('modelSEED', '../models/modelSEED/bsubtilis.xml', 'seed')\n",
    "    ]\n",
    "\n",
    "if organism == 'mgenitalium' and test == 'main':\n",
    "    model_list = [\n",
    "        ('iPS189', '../models/original/iPS189_fixed.xml', 'cobra'),\n",
    "        ('CarveMe', '../models/CarveMe/M_genitalium_G37.xml', 'cobra'),\n",
    "        ('modelSEED', '../models/modelSEED/mgenitalium.xml', 'seed')\n",
    "    ]\n",
    "\n",
    "if organism == 'paeruginosa' and test == 'main':\n",
    "    model_list = [\n",
    "        ('iMO1056', '../models/original/iMO1056_fixed.xml', 'cobra'),\n",
    "        ('CarveMe', '../models/CarveMe/Paeruginosa_PAO1.xml', 'cobra'),\n",
    "        ('modelSEED', '../models/modelSEED/paeruginosa.xml', 'seed')\n",
    "    ]\n",
    "    \n",
    "if organism == 'soneidensis' and test == 'main':\n",
    "        model_list = [\n",
    "        ('iSO783', '../models/original/iSO783_fixed.xml', 'cobra'),\n",
    "        ('CarveMe', '../models/CarveMe/Soneidensis_MR1.xml', 'cobra'),\n",
    "        ('modelSEED', '../models/modelSEED/soneidensis.xml', 'seed')\n",
    "    ]"
   ]
  },
  {
   "cell_type": "code",
   "execution_count": null,
   "metadata": {},
   "outputs": [],
   "source": [
    "if organism == 'ecoli' and test == 'biomass':\n",
    "    model_list = [\n",
    "        ('iJO1366 biomass', '../models/CarveMe/Ecoli_K12_MG1655_iJO1366_biomass.xml', 'cobra'),\n",
    "        ('Gram-neg biomass', '../models/CarveMe/Ecoli_K12_MG1655.xml', 'cobra'),\n",
    "        ('Core biomass', '../models/CarveMe/Ecoli_K12_MG1655_core_biomass.xml', 'cobra'),\n",
    "    ]\n",
    "\n",
    "if organism == 'bsubtilis' and test == 'biomass':\n",
    "    model_list = [\n",
    "        ('iYO844 biomass', '../models/CarveMe/Bsubtilis_168_iYO844_biomass.xml', 'cobra'),\n",
    "        ('Gram-pos biomass', '../models/CarveMe/Bsubtilis_168.xml', 'cobra'),\n",
    "        ('Core biomass', '../models/CarveMe/Bsubtilis_168_core_biomass.xml', 'cobra'),\n",
    "    ]"
   ]
  },
  {
   "cell_type": "code",
   "execution_count": null,
   "metadata": {},
   "outputs": [],
   "source": [
    "if organism == 'ecoli' and test == 'ensemble':\n",
    "    model_list = [\n",
    "        ('Single', '../models/CarveMe/Ecoli_K12_MG1655.xml', 'cobra'),\n",
    "        ('Ensemble (T={:.0%})', '../models/CarveMe/Ecoli_K12_MG1655_ensemble.xml', 'cobra')\n",
    "    ]\n",
    "\n",
    "if organism == 'bsubtilis' and test == 'ensemble':\n",
    "    model_list = [\n",
    "        ('Single', '../models/CarveMe/Bsubtilis_168.xml', 'cobra'),\n",
    "        ('Ensemble (T={:.0%})', '../models/CarveMe/Bsubtilis_168_ensemble.xml', 'cobra')\n",
    "    ]\n",
    "\n",
    "if organism == 'paeruginosa' and test == 'ensemble':\n",
    "    model_list = [\n",
    "        ('Single', '../models/CarveMe/Paeruginosa_PAO1.xml', 'cobra'),\n",
    "        ('Ensemble (T={:.0%})', '../models/CarveMe/Paeruginosa_PAO1_ensemble.xml', 'cobra')\n",
    "    ]\n",
    "    \n",
    "if organism == 'soneidensis' and test == 'ensemble':\n",
    "    model_list = [\n",
    "        ('Single', '../models/CarveMe/Soneidensis_MR1.xml', 'cobra'),\n",
    "        ('Ensemble (T={:.0%})', '../models/CarveMe/Soneidensis_MR1_ensemble.xml', 'cobra')\n",
    "    ]\n",
    "    \n",
    "if organism == 'mgenitalium' and test == 'ensemble':\n",
    "    model_list = [\n",
    "        ('Single', '../models/CarveMe/M_genitalium_G37.xml', 'cobra'),\n",
    "        ('Ensemble (T={:.0%})', '../models/CarveMe/M_genitalium_G37_ensemble.xml', 'cobra')\n",
    "    ]"
   ]
  },
  {
   "cell_type": "markdown",
   "metadata": {},
   "source": [
    "### Load models"
   ]
  },
  {
   "cell_type": "code",
   "execution_count": null,
   "metadata": {},
   "outputs": [],
   "source": [
    "models = {}\n",
    "\n",
    "for label, model_file, flavor in model_list: \n",
    "    if 'Ensemble' in label:\n",
    "        models[label] = load_ensemble(model_file, flavor=flavor)\n",
    "        models[label].size = 10\n",
    "\n",
    "    else:\n",
    "        models[label] = load_cbmodel(model_file, flavor=flavor)"
   ]
  },
  {
   "cell_type": "markdown",
   "metadata": {},
   "source": [
    "### Run simulations"
   ]
  },
  {
   "cell_type": "code",
   "execution_count": null,
   "metadata": {},
   "outputs": [],
   "source": [
    "if test == 'main':\n",
    "    common_genes = None\n",
    "    for label, _, _ in model_list: \n",
    "        if common_genes is None:\n",
    "            common_genes = set(models[label].genes.keys())\n",
    "        else:\n",
    "            common_genes &= set(models[label].genes.keys())\n",
    "    \n",
    "    essential = essential & common_genes\n",
    "    \n",
    "    if non_essential:\n",
    "        non_essential = non_essential & common_genes\n",
    "    else:\n",
    "        non_essential = common_genes - essential"
   ]
  },
  {
   "cell_type": "code",
   "execution_count": null,
   "metadata": {},
   "outputs": [],
   "source": [
    "data_all = []\n",
    "labels = []\n",
    "\n",
    "for label, _, flavor in model_list: \n",
    "    \n",
    "    if medium_tag is None:\n",
    "        medium = None\n",
    "    elif flavor == 'seed':\n",
    "        medium = seed_media[medium_tag]\n",
    "    else:\n",
    "        medium = media_db[medium_tag] \n",
    "        \n",
    "    ensemble = ('Ensemble' in label)\n",
    "        \n",
    "    res = benchmark_essentiality(models[label], medium, essential, non_essential,\n",
    "                                 ensemble=ensemble,\n",
    "                                 voting_thresholds=voting_thresholds,\n",
    "                                 flavor=flavor)\n",
    "    \n",
    "    if ensemble:\n",
    "        data_all.extend(res)\n",
    "        labels.extend([label.format(t) for t in voting_thresholds])\n",
    "    else:\n",
    "        data_all.append(res)\n",
    "        labels.append(label)"
   ]
  },
  {
   "cell_type": "code",
   "execution_count": null,
   "metadata": {},
   "outputs": [],
   "source": [
    "spider_plot_compare(data_all, labels, None, styles=styles)\n",
    "plt.savefig('../results/essentiality/{}_{}.png'.format(organism, test), dpi=300, bbox_inches='tight')"
   ]
  },
  {
   "cell_type": "code",
   "execution_count": null,
   "metadata": {},
   "outputs": [],
   "source": []
  }
 ],
 "metadata": {
  "kernelspec": {
   "display_name": "Python [default]",
   "language": "python",
   "name": "python2"
  },
  "language_info": {
   "codemirror_mode": {
    "name": "ipython",
    "version": 2
   },
   "file_extension": ".py",
   "mimetype": "text/x-python",
   "name": "python",
   "nbconvert_exporter": "python",
   "pygments_lexer": "ipython2",
   "version": "2.7.14"
  }
 },
 "nbformat": 4,
 "nbformat_minor": 2
}
