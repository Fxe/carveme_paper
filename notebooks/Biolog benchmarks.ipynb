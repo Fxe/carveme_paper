{
 "cells": [
  {
   "cell_type": "code",
   "execution_count": null,
   "metadata": {},
   "outputs": [],
   "source": [
    "%matplotlib inline"
   ]
  },
  {
   "cell_type": "code",
   "execution_count": null,
   "metadata": {},
   "outputs": [],
   "source": [
    "%run ../src/benchmark.py\n",
    "%run ../src/plotting.py"
   ]
  },
  {
   "cell_type": "code",
   "execution_count": null,
   "metadata": {},
   "outputs": [],
   "source": [
    "import pandas as pd\n",
    "import matplotlib.pyplot as plt\n",
    "from framed import load_cbmodel\n",
    "from framed.cobra.ensemble import load_ensemble\n",
    "from carveme.reconstruction.utils import load_media_db\n",
    "import seaborn as sns\n",
    "sns.set_style('white')"
   ]
  },
  {
   "cell_type": "markdown",
   "metadata": {},
   "source": [
    "### Select organism"
   ]
  },
  {
   "cell_type": "code",
   "execution_count": null,
   "metadata": {},
   "outputs": [],
   "source": [
    "SELECTED = 0\n",
    "\n",
    "organisms = [\n",
    "    'ecoli',\n",
    "    'bsubtilis',\n",
    "    'paeruginosa',\n",
    "    'soneidensis',\n",
    "    'rsolanacearum'\n",
    "]\n",
    "\n",
    "organism = organisms[SELECTED]"
   ]
  },
  {
   "cell_type": "markdown",
   "metadata": {},
   "source": [
    "### Load biolog data"
   ]
  },
  {
   "cell_type": "code",
   "execution_count": null,
   "metadata": {},
   "outputs": [],
   "source": [
    "if organism in {'ecoli', 'bsubtilis', 'rsolanacearum'}:\n",
    "    data = {\n",
    "        'C': load_biolog_data('../experimental/biolog/%s/biolog_carbon.tsv' % organism),\n",
    "        'N': load_biolog_data('../experimental/biolog/%s/biolog_nitrogen.tsv' % organism),\n",
    "        'P': load_biolog_data('../experimental/biolog/%s/biolog_phosphorus.tsv' % organism),\n",
    "        'S': load_biolog_data('../experimental/biolog/%s/biolog_sulfur.tsv' % organism)\n",
    "    }\n",
    "\n",
    "elif organism in {'paeruginosa'}:\n",
    "    data = {\n",
    "        'C': load_biolog_data('../experimental/biolog/%s/biolog_carbon.tsv' % organism)\n",
    "    }\n",
    "    \n",
    "elif organism in {'soneidensis'}:\n",
    "    data = {\n",
    "        'C': load_biolog_data('../experimental/biolog/%s/biolog_carbon.tsv' % organism),\n",
    "        'N': load_biolog_data('../experimental/biolog/%s/biolog_nitrogen.tsv' % organism)\n",
    "    }"
   ]
  },
  {
   "cell_type": "markdown",
   "metadata": {},
   "source": [
    "### Define simulation conditions"
   ]
  },
  {
   "cell_type": "code",
   "execution_count": null,
   "metadata": {},
   "outputs": [],
   "source": [
    "test = 'main'\n",
    "#test = 'transporters'\n",
    "#test = 'ensemble'"
   ]
  },
  {
   "cell_type": "code",
   "execution_count": null,
   "metadata": {},
   "outputs": [],
   "source": [
    "add_transporters = (test == 'transporters')\n",
    "styles = None\n",
    "voting_thresholds = None\n",
    "medium_tag = 'M9'\n",
    "\n",
    "if test == 'ensemble':\n",
    "    c = sns.color_palette('YlGnBu', n_colors=4)\n",
    "    styles = [(c[0], '-', True), (c[1], '-', False), (c[2], '-', False), (c[3], '-', False)]\n",
    "    voting_thresholds = [0.1, 0.5, 0.9]"
   ]
  },
  {
   "cell_type": "code",
   "execution_count": null,
   "metadata": {},
   "outputs": [],
   "source": [
    "media_db = load_media_db('../experimental/media/media_db.tsv')\n",
    "seed_media = load_media_db('../experimental/media/kbase_media.tsv')"
   ]
  },
  {
   "cell_type": "code",
   "execution_count": null,
   "metadata": {},
   "outputs": [],
   "source": [
    "main_compounds_bigg = {\n",
    "    'C': ['glc__D'],\n",
    "    'N': ['nh4'],\n",
    "    'P': ['pi'],\n",
    "    'S': ['so4']\n",
    "}\n",
    "\n",
    "main_compounds_seed = {\n",
    "    'C': ['cpd00027'],\n",
    "    'N': ['cpd00013'],\n",
    "    'P': ['cpd00009'],\n",
    "    'S': ['cpd00048']\n",
    "}"
   ]
  },
  {
   "cell_type": "markdown",
   "metadata": {},
   "source": [
    "### Select models"
   ]
  },
  {
   "cell_type": "code",
   "execution_count": null,
   "metadata": {},
   "outputs": [],
   "source": [
    "if organism == 'ecoli' and test in {'main', 'transporters'}:\n",
    "    model_list = [\n",
    "        ('iML1515', '../models/original/iML1515.xml', 'bigg'),\n",
    "        ('CarveMe', '../models/CarveMe/Ecoli_K12_MG1655.xml', 'cobra'),\n",
    "        ('modelSEED', '../models/modelSEED/ecoli.xml', 'seed')\n",
    "    ]\n",
    "\n",
    "if organism == 'bsubtilis' and test in {'main', 'transporters'}:\n",
    "    model_list = [\n",
    "        ('iYO844', '../models/original/iYO844.xml', 'bigg'),\n",
    "        ('CarveMe', '../models/CarveMe/Bsubtilis_168.xml', 'cobra'),\n",
    "        ('modelSEED', '../models/modelSEED/bsubtilis.xml', 'seed')\n",
    "    ]\n",
    "\n",
    "if organism == 'paeruginosa' and test in {'main', 'transporters'}:\n",
    "    model_list = [\n",
    "        ('iMO1056', '../models/original/iMO1056_fixed.xml', 'cobra'),\n",
    "        ('CarveMe', '../models/CarveMe/Paeruginosa_PAO1.xml', 'cobra'),\n",
    "        ('modelSEED', '../models/modelSEED/paeruginosa.xml', 'seed')\n",
    "    ]\n",
    "    \n",
    "if organism == 'soneidensis' and test in {'main', 'transporters'}:\n",
    "    medium_tag = 'ShewMM'\n",
    "    main_compounds_bigg['C'] = ['lac__D', 'lac__L']\n",
    "    main_compounds_seed['C'] = ['cpd00159', 'cpd00221']\n",
    "    \n",
    "    model_list = [\n",
    "        ('iSO783', '../models/original/iSO783_fixed.xml', 'cobra'),\n",
    "        ('CarveMe', '../models/CarveMe/Soneidensis_MR1.xml', 'cobra'),\n",
    "        ('modelSEED', '../models/modelSEED/soneidensis.xml', 'seed')\n",
    "    ]\n",
    "    \n",
    "if organism == 'rsolanacearum' and test in {'main', 'transporters'}:\n",
    "    \n",
    "    model_list = [\n",
    "        ('iRP1476', '../models/original/iRP1476_fixed.xml', 'cobra'),\n",
    "        ('CarveMe', '../models/CarveMe/Rsolanacearum_GMI1000.xml', 'cobra'),\n",
    "        ('modelSEED', '../models/modelSEED/rsolanacearum.xml', 'seed')\n",
    "    ]"
   ]
  },
  {
   "cell_type": "code",
   "execution_count": null,
   "metadata": {},
   "outputs": [],
   "source": [
    "if organism == 'ecoli' and test == 'ensemble':\n",
    "    model_list = [\n",
    "        ('Single', '../models/CarveMe/Ecoli_K12_MG1655.xml', 'cobra'),\n",
    "        ('Ensemble (T={:.0%})', '../models/CarveMe/Ecoli_K12_MG1655_ensemble.xml', 'cobra')\n",
    "    ]\n",
    "\n",
    "if organism == 'bsubtilis' and test == 'ensemble':\n",
    "    model_list = [\n",
    "        ('Single', '../models/CarveMe/Bsubtilis_168.xml', 'cobra'),\n",
    "        ('Ensemble (T={:.0%})', '../models/CarveMe/Bsubtilis_168_ensemble.xml', 'cobra')\n",
    "    ]\n",
    "\n",
    "if organism == 'paeruginosa' and test == 'ensemble':\n",
    "    model_list = [\n",
    "        ('Single', '../models/CarveMe/Paeruginosa_PAO1.xml', 'cobra'),\n",
    "        ('Ensemble (T={:.0%})', '../models/CarveMe/Paeruginosa_PAO1_ensemble.xml', 'cobra')\n",
    "    ]\n",
    "    \n",
    "if organism == 'soneidensis' and test == 'ensemble':\n",
    "    medium_tag = 'ShewMM'\n",
    "    main_compounds_bigg['C'] = ['lac__D', 'lac__L']\n",
    "    main_compounds_seed['C'] = ['cpd00159', 'cpd00221']\n",
    "    \n",
    "    model_list = [\n",
    "        ('Single', '../models/CarveMe/Soneidensis_MR1.xml', 'cobra'),\n",
    "        ('Ensemble (T={:.0%})', '../models/CarveMe/Soneidensis_MR1_ensemble.xml', 'cobra')\n",
    "    ]\n",
    "    \n",
    "if organism == 'rsolanacearum' and test == 'ensemble':\n",
    "    model_list = [\n",
    "        ('Single', '../models/CarveMe/Rsolanacearum_GMI1000.xml', 'cobra'),\n",
    "        ('Ensemble (T={:.0%})', '../models/CarveMe/Rsolanacearum_GMI1000_ensemble.xml', 'cobra')\n",
    "    ]"
   ]
  },
  {
   "cell_type": "markdown",
   "metadata": {},
   "source": [
    "### Run simulations"
   ]
  },
  {
   "cell_type": "code",
   "execution_count": null,
   "metadata": {
    "scrolled": true
   },
   "outputs": [],
   "source": [
    "summary = []\n",
    "labels = []\n",
    "\n",
    "for label, model_file, flavor in model_list:  \n",
    "        \n",
    "    ex_rxn_format = None\n",
    "    main_compounds = None\n",
    "    medium = media_db[medium_tag]\n",
    "    main_compounds = main_compounds_bigg\n",
    "        \n",
    "    if flavor == 'seed':\n",
    "        medium = seed_media[medium_tag]\n",
    "        main_compounds = main_compounds_seed\n",
    "        \n",
    "    if 'Ensemble' in label:\n",
    "        ensemble = True\n",
    "        model = load_ensemble(model_file, flavor=flavor)\n",
    "    else:\n",
    "        ensemble = False\n",
    "        model = load_cbmodel(model_file, flavor=flavor)\n",
    "        \n",
    "    results = {}\n",
    "    \n",
    "    for source, data_x in data.items():\n",
    "                \n",
    "        results[source] = benchmark_biolog(model, medium, source, data_x,\n",
    "                                           main_compounds,\n",
    "                                           add_transporters=add_transporters,\n",
    "                                           ensemble=ensemble,\n",
    "                                           voting_thresholds=voting_thresholds,\n",
    "                                           flavor=flavor,\n",
    "                                           verbose=False)\n",
    "    \n",
    "    if ensemble:\n",
    "        for i, t in enumerate(voting_thresholds):\n",
    "            results_merge = pd.concat([x[i] for x in results.values()])\n",
    "            summary.append(summarize_benchmark(results_merge['result'].tolist()))\n",
    "            labels.append(label.format(t))\n",
    "    else:\n",
    "        results_merge = pd.concat(results.values())\n",
    "        summary.append(summarize_benchmark(results_merge['result'].tolist())) \n",
    "        labels.append(label)"
   ]
  },
  {
   "cell_type": "markdown",
   "metadata": {},
   "source": [
    "### Plot results"
   ]
  },
  {
   "cell_type": "code",
   "execution_count": null,
   "metadata": {},
   "outputs": [],
   "source": [
    "spider_plot_compare(summary, labels, None, styles=styles)\n",
    "plt.savefig('../results/biolog/{}_{}.png'.format(organism, test), dpi=300, bbox_inches='tight')"
   ]
  }
 ],
 "metadata": {
  "kernelspec": {
   "display_name": "Python [default]",
   "language": "python",
   "name": "python2"
  },
  "language_info": {
   "codemirror_mode": {
    "name": "ipython",
    "version": 2
   },
   "file_extension": ".py",
   "mimetype": "text/x-python",
   "name": "python",
   "nbconvert_exporter": "python",
   "pygments_lexer": "ipython2",
   "version": "2.7.14"
  }
 },
 "nbformat": 4,
 "nbformat_minor": 2
}
